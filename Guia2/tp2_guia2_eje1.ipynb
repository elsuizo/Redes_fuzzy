{
 "metadata": {
  "name": "",
  "signature": "sha256:4b02f138c48c1c491e1e80c49a0f6d06ca9ec438924f2b6d890db4bd6db731e8"
 },
 "nbformat": 3,
 "nbformat_minor": 0,
 "worksheets": [
  {
   "cells": [
    {
     "cell_type": "markdown",
     "metadata": {},
     "source": [
      "Redes Neuronales y Control difuso\n",
      "=============================\n",
      "\n",
      "##Guia 2\n",
      "\n",
      "###Martin Nobl\u00eda\n",
      "\n",
      "###Marcos Panizzo\n",
      "\n",
      "###Dami\u00e1n Presti"
     ]
    },
    {
     "cell_type": "markdown",
     "metadata": {},
     "source": [
      "<a rel=\"license\" href=\"http://creativecommons.org/licenses/by-sa/4.0/\"><img alt=\"Licencia Creative Commons\" style=\"border-width:0\" src=\"http://i.creativecommons.org/l/by-sa/4.0/88x31.png\" /></a><br /><span xmlns:dct=\"http://purl.org/dc/terms/\" property=\"dct:title\">Guia2</span> por <a xmlns:cc=\"http://creativecommons.org/ns#\" href=\"http://nbviewer.ipython.org/urls/raw.githubusercontent.com/elsuizo/Redes_neuronales_Fuzzy/master/guia1.ipynb?create=1\" property=\"cc:attributionName\" rel=\"cc:attributionURL\">Martin Nobl\u00eda Marcos Panizzo Dami\u00e1n Presti</a> se distribuye bajo una <a rel=\"license\" href=\"http://creativecommons.org/licenses/by-sa/4.0/\">Licencia Creative Commons Atribuci\u00f3n-CompartirIgual 4.0 Internacional</a>."
     ]
    },
    {
     "cell_type": "markdown",
     "metadata": {},
     "source": [
      "## Ejercicio 1\n",
      "\n",
      "Considere el siguiente problema de clasificaci\u00f3n:\n",
      "\n",
      "$$\\{ \\mathbf{p}_{1}=[-1,1]^{T},t_{1}=1 \\}$$\n",
      "\n",
      "$$\\{ \\mathbf{p}_{2}=[0,0]^{T},t_{1}=1 \\} $$ \n",
      "\n",
      "$$\\{ \\mathbf{p}_{3}=[1,-1]^{T},t_{1}=1 \\} $$\n",
      "\n",
      "$$\\{ \\mathbf{p}_{4}=[1,0]^{T},t_{1}=0 \\} $$ \n",
      "\n",
      "$$\\{ \\mathbf{p}_{5}=[0,1]^{T},t_{1}=0 \\} $$\n",
      "\n",
      "a) \u00bfQue tipo de perceptron utilizar\u00e1 para encontrar el clasificador? Especifique entradas, neuronas y salidas\n",
      "\n",
      "b) Realizar un gr\u00e1fico de los puntos con sus clases y encontrar la separatiz. Hallar el $\\mathbf{W}$ y el $\\mathbf{b}$ asociados a su soluci\u00f3n\n",
      "\n",
      "c) Programar un algoritmo(propio) que resuelva el problema desde una condici\u00f3n inicial azarosa. Realice los gr\u00e1ficos que muestren las separatrices de su clasificador \n",
      "\n",
      "d) Usar toolbox"
     ]
    },
    {
     "cell_type": "markdown",
     "metadata": {},
     "source": [
      "##a) \n",
      "\n",
      "Primero, como es un problema linealmente separable(vease gr\u00e1fico) podemos utilizar el perceptron, luego para elegir el n\u00famero de *neuronas* teniendo en cuenta que un perceptron clasifica $2^{s}$(donde $s$ es el n\u00famero de *neuronas*) clases distintas y ya que en este problema existen solo dos clases, \n",
      "\n",
      "El n\u00famero de *neuronas* elegidas es $1$.\n",
      "\n",
      "El n\u00famero de entradas es $5$ (Determinadas por $\\mathbf{p}_{i}$) $i = 1,2..5$\n",
      "\n",
      "El n\u00famero de salidas es $1$ (determinado por $a = hardlim(\\mathbf{W}^{T}  \\mathbf{p} + \\mathbf{b})$) $\\in R^{1}$\n",
      "\n",
      "\n"
     ]
    },
    {
     "cell_type": "markdown",
     "metadata": {},
     "source": [
      "## b)\n",
      "\n"
     ]
    },
    {
     "cell_type": "markdown",
     "metadata": {},
     "source": [
      "Sea una red neuronal con arquitectura perceptron(de una sola capa), cuya salida se calcula de la siguiente manera:\n",
      "\n",
      "$$\\mathbf{a} = \\mathbf{f}(_{1}\\mathbf{W} \\, \\mathbf{p} + \\mathbf{b})$$\n",
      "\n",
      "Donde:\n",
      "\n",
      "$_{1}\\mathbf{W}$: matriz de pesos (par\u00e1metro de la red)\n",
      "\n",
      "$\\mathbf{p}$: vector de entradas \n",
      "\n",
      "$\\mathbf{b}$: vector de bias (par\u00e1metro de la red)\n",
      "\n",
      "$\\mathbf{f}$: es una funci\u00f3n de transferencia *hardlim*\n",
      "\n",
      "y sea la siguiente regla de aprendizaje:\n",
      "\n",
      "$$e = t - a$$\n",
      "\n",
      "$$_{1}\\mathbf{W}^{new} =  (_{1}\\mathbf{W}^{old})+ e \\, \\mathbf{p}  $$\n",
      "\n",
      "$$\\mathbf{b}^{new} = \\mathbf{b}^{old} + e $$\n",
      "\n",
      "\n"
     ]
    },
    {
     "cell_type": "code",
     "collapsed": false,
     "input": [
      "# Imports\n",
      "import numpy as np\n",
      "import matplotlib.pyplot as plt\n",
      "%matplotlib inline\n",
      "plt.rcParams['figure.figsize'] = 8,6 #par\u00e1metros de tama\u00f1o"
     ],
     "language": "python",
     "metadata": {},
     "outputs": [],
     "prompt_number": 1
    },
    {
     "cell_type": "code",
     "collapsed": false,
     "input": [
      "# definimos la funcion de transferencia\n",
      "hardlim = lambda t: .5 * (np.sign(t) + 1)"
     ],
     "language": "python",
     "metadata": {},
     "outputs": [],
     "prompt_number": 2
    },
    {
     "cell_type": "code",
     "collapsed": false,
     "input": [
      "# Inputs\n",
      "p_1 = np.array([-1,1])\n",
      "p_2 = np.array([0,0])\n",
      "p_3 = np.array([1,-1])\n",
      "p_4 = np.array([1,0])\n",
      "p_5 = np.array([0,1])\n",
      "\n",
      "# Targets\n",
      "t_1 = 1\n",
      "t_2 = 1\n",
      "t_3 = 1\n",
      "t_4 = 0\n",
      "t_5 = 0"
     ],
     "language": "python",
     "metadata": {},
     "outputs": [],
     "prompt_number": 3
    },
    {
     "cell_type": "code",
     "collapsed": false,
     "input": [
      "# Conjunto de datos\n",
      "data_set = ((p_1,t_1),(p_2,t_2),(p_3,t_3),(p_4,t_4),(p_5,t_5))"
     ],
     "language": "python",
     "metadata": {},
     "outputs": [],
     "prompt_number": 4
    },
    {
     "cell_type": "code",
     "collapsed": false,
     "input": [
      "for data in data_set:\n",
      "    print 'input:%s --> target:%s' % (data[0],data[1])"
     ],
     "language": "python",
     "metadata": {},
     "outputs": [
      {
       "output_type": "stream",
       "stream": "stdout",
       "text": [
        "input:[-1  1] --> target:1\n",
        "input:[0 0] --> target:1\n",
        "input:[ 1 -1] --> target:1\n",
        "input:[1 0] --> target:0\n",
        "input:[0 1] --> target:0\n"
       ]
      }
     ],
     "prompt_number": 5
    },
    {
     "cell_type": "code",
     "collapsed": false,
     "input": [
      "# Condicion inicial \n",
      "W = np.random.uniform(-1,1,size=2)\n",
      "W"
     ],
     "language": "python",
     "metadata": {},
     "outputs": [
      {
       "metadata": {},
       "output_type": "pyout",
       "prompt_number": 6,
       "text": [
        "array([-0.09889582,  0.88673885])"
       ]
      }
     ],
     "prompt_number": 6
    },
    {
     "cell_type": "code",
     "collapsed": false,
     "input": [
      "# Condicion inicial\n",
      "b = np.random.uniform(-1,1)\n",
      "b"
     ],
     "language": "python",
     "metadata": {},
     "outputs": [
      {
       "metadata": {},
       "output_type": "pyout",
       "prompt_number": 7,
       "text": [
        "-0.8853764465583083"
       ]
      }
     ],
     "prompt_number": 7
    },
    {
     "cell_type": "code",
     "collapsed": false,
     "input": [
      "# Entrenamiento\n",
      "flag = True\n",
      "epocas = 0\n",
      "while flag:\n",
      "    flag = False\n",
      "    for data in data_set:\n",
      "        a = hardlim(np.dot(W,data[0]) + b)\n",
      "        t = data[1]\n",
      "        e = t - a \n",
      "        \n",
      "        if np.abs(e) > 0:\n",
      "            flag = True\n",
      "            W = W + e * data[0]\n",
      "            b = b + e\n",
      "   \n",
      "    epocas += 1"
     ],
     "language": "python",
     "metadata": {},
     "outputs": [],
     "prompt_number": 8
    },
    {
     "cell_type": "code",
     "collapsed": false,
     "input": [
      "W"
     ],
     "language": "python",
     "metadata": {},
     "outputs": [
      {
       "metadata": {},
       "output_type": "pyout",
       "prompt_number": 9,
       "text": [
        "array([-1.09889582, -1.11326115])"
       ]
      }
     ],
     "prompt_number": 9
    },
    {
     "cell_type": "code",
     "collapsed": false,
     "input": [
      "b"
     ],
     "language": "python",
     "metadata": {},
     "outputs": [
      {
       "metadata": {},
       "output_type": "pyout",
       "prompt_number": 10,
       "text": [
        "0.11462355344169173"
       ]
      }
     ],
     "prompt_number": 10
    },
    {
     "cell_type": "code",
     "collapsed": false,
     "input": [
      "# Verificacion\n",
      "for data in data_set:\n",
      "    a2 = hardlim(np.dot(W,data[0]) + b)\n",
      "    print 'input:%s --> salida:%s --> target:%s' % (data[0],a2,data[1])\n",
      "print 'Numero de epocas:', epocas"
     ],
     "language": "python",
     "metadata": {},
     "outputs": [
      {
       "output_type": "stream",
       "stream": "stdout",
       "text": [
        "input:[-1  1] --> salida:1.0 --> target:1\n",
        "input:[0 0] --> salida:1.0 --> target:1\n",
        "input:[ 1 -1] --> salida:1.0 --> target:1\n",
        "input:[1 0] --> salida:0.0 --> target:0\n",
        "input:[0 1] --> salida:0.0 --> target:0\n",
        "Numero de epocas: 3\n"
       ]
      }
     ],
     "prompt_number": 11
    },
    {
     "cell_type": "code",
     "collapsed": false,
     "input": [
      "# Funcion de la frontera de decision Wp + b = 0\n",
      "def decision_boun(t,w,b):\n",
      "    \"\"\"\n",
      "    Decision boundary\n",
      "    \"\"\"\n",
      "    \n",
      "    return (-b - t * w[1])/(w[0])"
     ],
     "language": "python",
     "metadata": {},
     "outputs": [],
     "prompt_number": 12
    },
    {
     "cell_type": "code",
     "collapsed": false,
     "input": [
      "t = np.linspace(-2,2)"
     ],
     "language": "python",
     "metadata": {},
     "outputs": [],
     "prompt_number": 13
    },
    {
     "cell_type": "code",
     "collapsed": false,
     "input": [
      "# Plots\n",
      "plt.plot(data_set[-1][0][0],data_set[-1][0][1],'ro',markersize=12)\n",
      "plt.plot(data_set[-2][0][0],data_set[-2][0][1],'ro',markersize=12)\n",
      "plt.plot(t,decision_boun(t,W,b),'k--',linewidth=4)\n",
      "plt.fill_between(t,decision_boun(t,W,b),-1.5,facecolor='green')\n",
      "plt.title('Clasificacion con Perceptron',fontsize=20)\n",
      "for data in data_set[0:3]:\n",
      "   \n",
      "    plt.scatter(data[0][0],data[0][1],s=120)\n",
      "    plt.xlim((-1.5,1.5))\n",
      "    plt.ylim((-1.5,1.5))\n",
      "    plt.grid()\n",
      "    "
     ],
     "language": "python",
     "metadata": {},
     "outputs": [
      {
       "metadata": {},
       "output_type": "display_data",
       "png": "[encoded data removed]",
       "text": [
        "<matplotlib.figure.Figure at 0x459a8d0>"
       ]
      }
     ],
     "prompt_number": 14
    },
    {
     "cell_type": "markdown",
     "metadata": {},
     "source": [
      "## d)\n",
      "\n",
      "Vamos a utilizar un modulo de Python llamado neurolab[http://code.google.com/p/neurolab/]"
     ]
    },
    {
     "cell_type": "code",
     "collapsed": false,
     "input": [
      "import neurolab as nl\n",
      "\n",
      "\n",
      "inputs = [[-1, 1], [0, 0], [1, -1], [1, 0],[0,1]]\n",
      "target = [[1], [1], [1], [0],[0]]\n",
      "\n",
      "# Creamos una neurona de dos entradas(con rangos entre(-1,1)) y una capa \n",
      "net = nl.net.newp([[-1, 1],[-1, 1]], 1)"
     ],
     "language": "python",
     "metadata": {},
     "outputs": [],
     "prompt_number": 15
    },
    {
     "cell_type": "code",
     "collapsed": false,
     "input": [
      "error = net.train(inputs, target, epochs=100, show=10, lr=0.1)"
     ],
     "language": "python",
     "metadata": {},
     "outputs": [
      {
       "output_type": "stream",
       "stream": "stdout",
       "text": [
        "The goal of learning is reached\n"
       ]
      }
     ],
     "prompt_number": 16
    },
    {
     "cell_type": "code",
     "collapsed": false,
     "input": [
      "error"
     ],
     "language": "python",
     "metadata": {},
     "outputs": [
      {
       "metadata": {},
       "output_type": "pyout",
       "prompt_number": 17,
       "text": [
        "[1.5, 1.5, 0.5, 0.0]"
       ]
      }
     ],
     "prompt_number": 17
    },
    {
     "cell_type": "code",
     "collapsed": false,
     "input": [
      "# Verificamos\n",
      "net.sim(inputs)"
     ],
     "language": "python",
     "metadata": {},
     "outputs": [
      {
       "metadata": {},
       "output_type": "pyout",
       "prompt_number": 18,
       "text": [
        "array([[ 1.],\n",
        "       [ 1.],\n",
        "       [ 1.],\n",
        "       [ 0.],\n",
        "       [ 0.]])"
       ]
      }
     ],
     "prompt_number": 18
    },
    {
     "cell_type": "code",
     "collapsed": false,
     "input": [
      "plt.plot(error)\n",
      "plt.xlabel('Numero de epocas',fontsize=20)\n",
      "plt.ylabel('error de entrenamiento',fontsize=20)\n",
      "plt.grid()\n",
      "\n"
     ],
     "language": "python",
     "metadata": {},
     "outputs": [
      {
       "metadata": {},
       "output_type": "display_data",
       "png": "[encoded data removed]",
       "text": [
        "<matplotlib.figure.Figure at 0x7f8184082210>"
       ]
      }
     ],
     "prompt_number": 19
    },
    {
     "cell_type": "code",
     "collapsed": false,
     "input": [],
     "language": "python",
     "metadata": {},
     "outputs": [],
     "prompt_number": 19
    }
   ],
   "metadata": {}
  }
 ]
}