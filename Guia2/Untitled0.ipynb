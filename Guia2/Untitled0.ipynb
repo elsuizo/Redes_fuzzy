{
 "metadata": {
  "name": "",
  "signature": "sha256:445a48a136417b1a37b31e88c03ac3b048216c84c4be08b25e1c3bf46c6e7514"
 },
 "nbformat": 3,
 "nbformat_minor": 0,
 "worksheets": []
}