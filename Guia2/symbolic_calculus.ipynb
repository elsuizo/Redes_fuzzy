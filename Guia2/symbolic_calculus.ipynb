{
 "metadata": {
  "name": "",
  "signature": "sha256:2b27605a95bbd6b194c52cc7df33849f8adc954dbd750233c5bfc6b9e2a247f3"
 },
 "nbformat": 3,
 "nbformat_minor": 0,
 "worksheets": [
  {
   "cells": [
    {
     "cell_type": "code",
     "collapsed": false,
     "input": [
      "import sympy as symb\n",
      "import numpy as np\n",
      "import matplotlib.pyplot as plt\n",
      "%matplotlib inline\n",
      "symb.init_printing()"
     ],
     "language": "python",
     "metadata": {},
     "outputs": [],
     "prompt_number": 174
    },
    {
     "cell_type": "code",
     "collapsed": false,
     "input": [
      "x_1, x_2 = symb.symbols('x_1 x_2')"
     ],
     "language": "python",
     "metadata": {},
     "outputs": [],
     "prompt_number": 175
    },
    {
     "cell_type": "code",
     "collapsed": false,
     "input": [
      "def grad(f):\n",
      "    \n",
      "    return symb.Matrix([f.diff(x_1),f.diff(x_2)]).T"
     ],
     "language": "python",
     "metadata": {},
     "outputs": [],
     "prompt_number": 176
    },
    {
     "cell_type": "code",
     "collapsed": false,
     "input": [
      "f = (x_2 - 2 * x_1 + symb.exp(-x_1))** 2 + (x_1 - 2 * x_2 + symb.exp(-x_2))** 2\n",
      "f"
     ],
     "language": "python",
     "metadata": {},
     "outputs": [
      {
       "latex": [
        "$$\\left(- 2 x_{1} + x_{2} + e^{- x_{1}}\\right)^{2} + \\left(x_{1} - 2 x_{2} + e^{- x_{2}}\\right)^{2}$$"
       ],
       "metadata": {},
       "output_type": "pyout",
       "png": "[encoded data removed]",
       "prompt_number": 177,
       "text": [
        "                   2                     2\n",
        "\u239b              -x\u2081\u239e    \u239b             -x\u2082\u239e \n",
        "\u239d-2\u22c5x\u2081 + x\u2082 + \u212f   \u23a0  + \u239dx\u2081 - 2\u22c5x\u2082 + \u212f   \u23a0 "
       ]
      }
     ],
     "prompt_number": 177
    },
    {
     "cell_type": "code",
     "collapsed": false,
     "input": [
      "g = grad(f)\n",
      "g"
     ],
     "language": "python",
     "metadata": {},
     "outputs": [
      {
       "latex": [
        "$$\\left[\\begin{matrix}2 x_{1} - 4 x_{2} + \\left(-4 - 2 e^{- x_{1}}\\right) \\left(- 2 x_{1} + x_{2} + e^{- x_{1}}\\right) + 2 e^{- x_{2}} & - 4 x_{1} + 2 x_{2} + \\left(-4 - 2 e^{- x_{2}}\\right) \\left(x_{1} - 2 x_{2} + e^{- x_{2}}\\right) + 2 e^{- x_{1}}\\end{matrix}\\right]$$"
       ],
       "metadata": {},
       "output_type": "pyout",
       "png": "[encoded data removed]",
       "prompt_number": 178,
       "text": [
        "\u23a1              \u239b        -x\u2081\u239e \u239b              -x\u2081\u239e      -x\u2082                 \u239b   \n",
        "\u23a32\u22c5x\u2081 - 4\u22c5x\u2082 + \u239d-4 - 2\u22c5\u212f   \u23a0\u22c5\u239d-2\u22c5x\u2081 + x\u2082 + \u212f   \u23a0 + 2\u22c5\u212f     -4\u22c5x\u2081 + 2\u22c5x\u2082 + \u239d-4 \n",
        "\n",
        "     -x\u2082\u239e \u239b             -x\u2082\u239e      -x\u2081\u23a4\n",
        "- 2\u22c5\u212f   \u23a0\u22c5\u239dx\u2081 - 2\u22c5x\u2082 + \u212f   \u23a0 + 2\u22c5\u212f   \u23a6"
       ]
      }
     ],
     "prompt_number": 178
    },
    {
     "cell_type": "code",
     "collapsed": false,
     "input": [
      "f_numeric = symb.lambdify((x_1,x_2),f,'numpy')"
     ],
     "language": "python",
     "metadata": {},
     "outputs": [],
     "prompt_number": 179
    },
    {
     "cell_type": "code",
     "collapsed": false,
     "input": [
      "f_numeric(1,1)"
     ],
     "language": "python",
     "metadata": {},
     "outputs": [
      {
       "latex": [
        "$$0.799152801787$$"
       ],
       "metadata": {},
       "output_type": "pyout",
       "png": "[encoded data removed]",
       "prompt_number": 180,
       "text": [
        "0.799152801787"
       ]
      }
     ],
     "prompt_number": 180
    },
    {
     "cell_type": "code",
     "collapsed": false,
     "input": [
      "\n",
      "g_numeric = symb.lambdify((x_1,x_2),g,'numpy')\n",
      "g"
     ],
     "language": "python",
     "metadata": {},
     "outputs": [
      {
       "latex": [
        "$$\\left[\\begin{matrix}2 x_{1} - 4 x_{2} + \\left(-4 - 2 e^{- x_{1}}\\right) \\left(- 2 x_{1} + x_{2} + e^{- x_{1}}\\right) + 2 e^{- x_{2}} & - 4 x_{1} + 2 x_{2} + \\left(-4 - 2 e^{- x_{2}}\\right) \\left(x_{1} - 2 x_{2} + e^{- x_{2}}\\right) + 2 e^{- x_{1}}\\end{matrix}\\right]$$"
       ],
       "metadata": {},
       "output_type": "pyout",
       "png": "[encoded data removed]",
       "prompt_number": 181,
       "text": [
        "\u23a1              \u239b        -x\u2081\u239e \u239b              -x\u2081\u239e      -x\u2082                 \u239b   \n",
        "\u23a32\u22c5x\u2081 - 4\u22c5x\u2082 + \u239d-4 - 2\u22c5\u212f   \u23a0\u22c5\u239d-2\u22c5x\u2081 + x\u2082 + \u212f   \u23a0 + 2\u22c5\u212f     -4\u22c5x\u2081 + 2\u22c5x\u2082 + \u239d-4 \n",
        "\n",
        "     -x\u2082\u239e \u239b             -x\u2082\u239e      -x\u2081\u23a4\n",
        "- 2\u22c5\u212f   \u23a0\u22c5\u239dx\u2081 - 2\u22c5x\u2082 + \u212f   \u23a0 + 2\u22c5\u212f   \u23a6"
       ]
      }
     ],
     "prompt_number": 181
    },
    {
     "cell_type": "code",
     "collapsed": false,
     "input": [
      "g_numeric(1,1)"
     ],
     "language": "python",
     "metadata": {},
     "outputs": [
      {
       "metadata": {},
       "output_type": "pyout",
       "prompt_number": 182,
       "text": [
        "matrix([[ 1.72932943,  1.72932943]])"
       ]
      }
     ],
     "prompt_number": 182
    },
    {
     "cell_type": "code",
     "collapsed": false,
     "input": [
      "X = np.arange(-2, 2, 0.1)\n",
      "Y = np.arange(-2, 2, 0.1)\n",
      "X, Y = np.meshgrid(X, Y)\n",
      "\n",
      "X[0][0]"
     ],
     "language": "python",
     "metadata": {},
     "outputs": [
      {
       "latex": [
        "$$-2.0$$"
       ],
       "metadata": {},
       "output_type": "pyout",
       "png": "[encoded data removed]",
       "prompt_number": 183,
       "text": [
        "-2.0"
       ]
      }
     ],
     "prompt_number": 183
    },
    {
     "cell_type": "code",
     "collapsed": false,
     "input": [
      "Z = f_numeric(X,Y)"
     ],
     "language": "python",
     "metadata": {},
     "outputs": [],
     "prompt_number": 184
    },
    {
     "cell_type": "code",
     "collapsed": true,
     "input": [],
     "language": "python",
     "metadata": {},
     "outputs": [],
     "prompt_number": 184
    },
    {
     "cell_type": "code",
     "collapsed": false,
     "input": [
      "def grad_numeric(x_1, x_2):\n",
      "    \n",
      "    comp_1 = 2 * x_1 - 4 * x_2 + 2 * np.exp(-x_2) + (-4 - 2 * np.exp(-x_1)) * (-2 * x_1 + x_2 + np.exp(-x_1)) \n",
      "    \n",
      "    comp_2 = -4 * x_1 + 2 * x_2 + (-4 - 2 * np.exp(-x_2)) * (x_1 - 2 * x_2 + np.exp(-x_2)) + 2 * np.exp(-x_1)\n",
      "    \n",
      "    return np.array([comp_1,comp_2])"
     ],
     "language": "python",
     "metadata": {},
     "outputs": [],
     "prompt_number": 185
    },
    {
     "cell_type": "code",
     "collapsed": false,
     "input": [
      "X_1 = grad_numeric(x,y)\n",
      "x_sol = np.zeros((2,20))\n",
      "alpha = .01"
     ],
     "language": "python",
     "metadata": {},
     "outputs": [],
     "prompt_number": 186
    },
    {
     "cell_type": "code",
     "collapsed": false,
     "input": [
      "for i in xrange(10):\n",
      "    \n",
      "    x_sol[i] = x_sol[i+1] - alpha * X_1"
     ],
     "language": "python",
     "metadata": {},
     "outputs": [
      {
       "ename": "ValueError",
       "evalue": "could not broadcast input array from shape (2,20) into shape (20)",
       "output_type": "pyerr",
       "traceback": [
        "\u001b[1;31m---------------------------------------------------------------------------\u001b[0m\n\u001b[1;31mValueError\u001b[0m                                Traceback (most recent call last)",
        "\u001b[1;32m<ipython-input-189-ba3dbddccbf0>\u001b[0m in \u001b[0;36m<module>\u001b[1;34m()\u001b[0m\n\u001b[0;32m      1\u001b[0m \u001b[1;32mfor\u001b[0m \u001b[0mi\u001b[0m \u001b[1;32min\u001b[0m \u001b[0mxrange\u001b[0m\u001b[1;33m(\u001b[0m\u001b[1;36m10\u001b[0m\u001b[1;33m)\u001b[0m\u001b[1;33m:\u001b[0m\u001b[1;33m\u001b[0m\u001b[0m\n\u001b[0;32m      2\u001b[0m \u001b[1;33m\u001b[0m\u001b[0m\n\u001b[1;32m----> 3\u001b[1;33m     \u001b[0mx_sol\u001b[0m\u001b[1;33m[\u001b[0m\u001b[0mi\u001b[0m\u001b[1;33m]\u001b[0m \u001b[1;33m=\u001b[0m \u001b[0mx_sol\u001b[0m\u001b[1;33m[\u001b[0m\u001b[0mi\u001b[0m\u001b[1;33m+\u001b[0m\u001b[1;36m1\u001b[0m\u001b[1;33m]\u001b[0m \u001b[1;33m-\u001b[0m \u001b[0malpha\u001b[0m \u001b[1;33m*\u001b[0m \u001b[0mX_1\u001b[0m\u001b[1;33m\u001b[0m\u001b[0m\n\u001b[0m",
        "\u001b[1;31mValueError\u001b[0m: could not broadcast input array from shape (2,20) into shape (20)"
       ]
      }
     ],
     "prompt_number": 189
    },
    {
     "cell_type": "code",
     "collapsed": false,
     "input": [
      "plt.scatter(x_sol[1,:],x_sol[0,:])"
     ],
     "language": "python",
     "metadata": {},
     "outputs": [
      {
       "metadata": {},
       "output_type": "pyout",
       "prompt_number": 188,
       "text": [
        "<matplotlib.collections.PathCollection at 0x5eb8150>"
       ]
      },
      {
       "metadata": {},
       "output_type": "display_data",
       "png": "[encoded data removed]",
       "text": [
        "<matplotlib.figure.Figure at 0x5a2fd90>"
       ]
      }
     ],
     "prompt_number": 188
    },
    {
     "cell_type": "code",
     "collapsed": false,
     "input": [
      "f.diff(x_1,2)"
     ],
     "language": "python",
     "metadata": {},
     "outputs": [
      {
       "latex": [
        "$$2 \\left(\\left(2 + e^{- x_{1}}\\right)^{2} + \\left(- 2 x_{1} + x_{2} + e^{- x_{1}}\\right) e^{- x_{1}} + 1\\right)$$"
       ],
       "metadata": {},
       "output_type": "pyout",
       "png": "[encoded data removed]",
       "prompt_number": 192,
       "text": [
        "  \u239b          2                               \u239e\n",
        "  \u239c\u239b     -x\u2081\u239e    \u239b              -x\u2081\u239e  -x\u2081    \u239f\n",
        "2\u22c5\u239d\u239d2 + \u212f   \u23a0  + \u239d-2\u22c5x\u2081 + x\u2082 + \u212f   \u23a0\u22c5\u212f    + 1\u23a0"
       ]
      }
     ],
     "prompt_number": 192
    },
    {
     "cell_type": "code",
     "collapsed": false,
     "input": [],
     "language": "python",
     "metadata": {},
     "outputs": []
    }
   ],
   "metadata": {}
  }
 ]
}