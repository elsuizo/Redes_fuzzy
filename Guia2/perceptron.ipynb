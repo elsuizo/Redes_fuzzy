{
 "metadata": {
  "name": "",
  "signature": "sha256:9d68b79dd707a467a90bfc299a253f7889832367dc1ffa152d2a881be2e0f344"
 },
 "nbformat": 3,
 "nbformat_minor": 0,
 "worksheets": [
  {
   "cells": [
    {
     "cell_type": "heading",
     "level": 1,
     "metadata": {},
     "source": [
      "Perceptron "
     ]
    },
    {
     "cell_type": "markdown",
     "metadata": {},
     "source": [
      "Sea una red neuronal con arquitectura perceptron(de una sola capa), cuya salida se calcula de la siguiente manera:\n",
      "\n",
      "$$\\mathbf{a} = \\mathbf{f}(_{1}\\mathbf{W} \\, \\mathbf{p} + \\mathbf{b})$$\n",
      "\n",
      "Donde:\n",
      "\n",
      "$_{1}\\mathbf{W}$: matriz de pesos (par\u00e1metro de la red)\n",
      "\n",
      "$\\mathbf{p}$: vector de entradas \n",
      "\n",
      "$\\mathbf{b}$: vector de bias (par\u00e1metro de la red)\n",
      "\n",
      "$\\mathbf{f}$: es una funci\u00f3n de transferencia *hardlim*\n",
      "\n",
      "y sea la siguiente regla de aprendizaje:\n",
      "\n",
      "$$e = t - a$$\n",
      "\n",
      "$$_{1}\\mathbf{W}^{new} =  (_{1}\\mathbf{W}^{old})+ e \\, \\mathbf{p}  $$\n",
      "\n",
      "$$\\mathbf{b}^{new} = \\mathbf{b}^{old} + e $$\n",
      "\n",
      "\n"
     ]
    },
    {
     "cell_type": "code",
     "collapsed": false,
     "input": [
      "# Imports\n",
      "import numpy as np\n",
      "import matplotlib.pyplot as plt\n",
      "%matplotlib inline"
     ],
     "language": "python",
     "metadata": {},
     "outputs": [],
     "prompt_number": 174
    },
    {
     "cell_type": "code",
     "collapsed": false,
     "input": [
      "# definimos la funcion de transferencia\n",
      "hardlim = lambda t: .5 * (np.sign(t) + 1)"
     ],
     "language": "python",
     "metadata": {},
     "outputs": [],
     "prompt_number": 175
    },
    {
     "cell_type": "code",
     "collapsed": false,
     "input": [
      "# Inputs\n",
      "p_1 = np.array([1,1])\n",
      "p_2 = np.array([1,-1])\n",
      "p_3 = np.array([-1,1])\n",
      "p_4 = np.array([-1,-1])\n",
      "\n",
      "# Targets\n",
      "t_1 = 1\n",
      "t_2 = 0\n",
      "t_3 = 0\n",
      "t_4 = 0"
     ],
     "language": "python",
     "metadata": {},
     "outputs": [],
     "prompt_number": 176
    },
    {
     "cell_type": "code",
     "collapsed": false,
     "input": [
      "# Conjunto de datos\n",
      "data_set_2 = ((p_1,t_1),(p_2,t_2),(p_3,t_3),(p_4,t_4))"
     ],
     "language": "python",
     "metadata": {},
     "outputs": [],
     "prompt_number": 177
    },
    {
     "cell_type": "code",
     "collapsed": false,
     "input": [
      "for data in data_set_2:\n",
      "    print 'input:%s --> target:%s' % (data[0],data[1])"
     ],
     "language": "python",
     "metadata": {},
     "outputs": [
      {
       "output_type": "stream",
       "stream": "stdout",
       "text": [
        "input:[1 1] --> target:1\n",
        "input:[ 1 -1] --> target:0\n",
        "input:[-1  1] --> target:0\n",
        "input:[-1 -1] --> target:0\n"
       ]
      }
     ],
     "prompt_number": 178
    },
    {
     "cell_type": "code",
     "collapsed": false,
     "input": [
      "# Condicion inicial \n",
      "W = np.random.uniform(-1,1,size=2)\n",
      "W"
     ],
     "language": "python",
     "metadata": {},
     "outputs": [
      {
       "metadata": {},
       "output_type": "pyout",
       "prompt_number": 179,
       "text": [
        "array([ 0.88649679,  0.29474092])"
       ]
      }
     ],
     "prompt_number": 179
    },
    {
     "cell_type": "code",
     "collapsed": false,
     "input": [
      "# Condicion inicial\n",
      "b = np.random.uniform(-1,1)\n",
      "b"
     ],
     "language": "python",
     "metadata": {},
     "outputs": [
      {
       "metadata": {},
       "output_type": "pyout",
       "prompt_number": 180,
       "text": [
        "-0.708079080099167"
       ]
      }
     ],
     "prompt_number": 180
    },
    {
     "cell_type": "code",
     "collapsed": false,
     "input": [
      "# Entrenamiento\n",
      "flag = True\n",
      "epocas = 0\n",
      "while flag:\n",
      "    flag = False\n",
      "    for data in data_set_2:\n",
      "        a = hardlim(np.dot(W,data[0]) + b)\n",
      "        t = data[1]\n",
      "        e = t - a \n",
      "        \n",
      "        if np.abs(e) > 0:\n",
      "            flag = True\n",
      "            W = W + e * data[0]\n",
      "            b = b + e\n",
      "   \n",
      "    epocas += 1"
     ],
     "language": "python",
     "metadata": {},
     "outputs": [],
     "prompt_number": 181
    },
    {
     "cell_type": "code",
     "collapsed": false,
     "input": [
      "W"
     ],
     "language": "python",
     "metadata": {},
     "outputs": [
      {
       "metadata": {},
       "output_type": "pyout",
       "prompt_number": 182,
       "text": [
        "array([ 0.88649679,  0.29474092])"
       ]
      }
     ],
     "prompt_number": 182
    },
    {
     "cell_type": "code",
     "collapsed": false,
     "input": [
      "b"
     ],
     "language": "python",
     "metadata": {},
     "outputs": [
      {
       "metadata": {},
       "output_type": "pyout",
       "prompt_number": 183,
       "text": [
        "-0.708079080099167"
       ]
      }
     ],
     "prompt_number": 183
    },
    {
     "cell_type": "code",
     "collapsed": false,
     "input": [
      "np.arctan2(W[1],W[0])"
     ],
     "language": "python",
     "metadata": {},
     "outputs": [
      {
       "metadata": {},
       "output_type": "pyout",
       "prompt_number": 184,
       "text": [
        "0.32098079759315368"
       ]
      }
     ],
     "prompt_number": 184
    },
    {
     "cell_type": "code",
     "collapsed": false,
     "input": [
      "# Verificacion\n",
      "for data in data_set_2:\n",
      "    a2 = hardlim(np.dot(W,data[0]) + b)\n",
      "    print 'input:%s --> salida:%s --> target:%s' % (data[0],a2,data[1])\n",
      "print 'Numero de epocas:', epocas"
     ],
     "language": "python",
     "metadata": {},
     "outputs": [
      {
       "output_type": "stream",
       "stream": "stdout",
       "text": [
        "input:[1 1] --> salida:1.0 --> target:1\n",
        "input:[ 1 -1] --> salida:0.0 --> target:0\n",
        "input:[-1  1] --> salida:0.0 --> target:0\n",
        "input:[-1 -1] --> salida:0.0 --> target:0\n",
        "Numero de epocas: 1\n"
       ]
      }
     ],
     "prompt_number": 185
    },
    {
     "cell_type": "code",
     "collapsed": false,
     "input": [
      "# Funcion de la frontera de decision Wp + b = 0\n",
      "def decision_boun(t,w,b):\n",
      "    \"\"\"\n",
      "    Decision boundary \n",
      "    \"\"\"\n",
      "    \n",
      "    return (-b - t * w[1])/(w[0])"
     ],
     "language": "python",
     "metadata": {},
     "outputs": [],
     "prompt_number": 186
    },
    {
     "cell_type": "code",
     "collapsed": false,
     "input": [
      "t = np.linspace(-2,2)"
     ],
     "language": "python",
     "metadata": {},
     "outputs": [],
     "prompt_number": 187
    },
    {
     "cell_type": "code",
     "collapsed": false,
     "input": [
      "# Plots\n",
      "for data in data_set_2[1:]:\n",
      "   \n",
      "    plt.scatter(data[0][0],data[0][1],s=70)\n",
      "    plt.xlim((-1.5,1.5))\n",
      "    plt.ylim((-1.5,1.5))\n",
      "    plt.grid()\n",
      "plt.plot(data_set_2[0][0][0],data_set_2[0][0][1],'ro',markersize=10)\n",
      "plt.plot(t,decision_boun(t,W,b),'g--',linewidth=4)\n",
      "plt.fill_between(t,decision_boun(t,W,b),-1.5,facecolor='green')"
     ],
     "language": "python",
     "metadata": {},
     "outputs": [
      {
       "metadata": {},
       "output_type": "pyout",
       "prompt_number": 189,
       "text": [
        "<matplotlib.collections.PolyCollection at 0x4fade90>"
       ]
      },
      {
       "metadata": {},
       "output_type": "display_data",
       "png": "[encoded data removed]",
       "text": [
        "<matplotlib.figure.Figure at 0x4f7e290>"
       ]
      }
     ],
     "prompt_number": 189
    },
    {
     "cell_type": "code",
     "collapsed": false,
     "input": [],
     "language": "python",
     "metadata": {},
     "outputs": [],
     "prompt_number": 188
    }
   ],
   "metadata": {}
  }
 ]
}