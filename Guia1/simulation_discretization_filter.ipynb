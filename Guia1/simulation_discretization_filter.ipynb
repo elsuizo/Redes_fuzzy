{
 "metadata": {
  "name": "",
  "signature": "sha256:7cf09d6ede4665271fceed719ca7e9ab818905ad530c4dc7d408aa9be9de5be2"
 },
 "nbformat": 3,
 "nbformat_minor": 0,
 "worksheets": [
  {
   "cells": [
    {
     "cell_type": "code",
     "collapsed": false,
     "input": [
      "import numpy as np\n",
      "import matplotlib.pyplot as plt\n",
      "%matplotlib inline"
     ],
     "language": "python",
     "metadata": {},
     "outputs": [],
     "prompt_number": 2
    },
    {
     "cell_type": "markdown",
     "metadata": {},
     "source": [
      "Un sistema de segundo orden en su forma est\u00e1ndar se define:\n",
      "\n",
      "$$\\frac{Y(s)}{R(s)}=\\frac{\\omega_{n}^{2}}{s^{2}+2\\,\\zeta\\omega_{n}s + \\omega_{n}^{2}}$$\n",
      "\n",
      "Luego el comportamiento din\u00e1mico del sistema de segundo orden se describe en t\u00e9rminos de dos par\u00e1metros $\\zeta$ y $\\omega_{n}$.\n",
      "\n",
      "Si $0< \\zeta < 1$, los polos a lazo cerrado son complejos conjugados y se encuentran en el semiplano izquierdo del plano $s$\n",
      "\n",
      "\n",
      "\n",
      "falta\n",
      "\n",
      "\n",
      "\n",
      "La se\u00f1al de error para este sistema es la diferencia entre la entrada y la salida y es:\n",
      "\n",
      "$$e(t) = r(t) - y(t) = e^{-\\zeta \\omega_{n}t}(cos(\\omega_{d} \\, t)+\\frac{\\zeta}{\\sqrt{1-\\zeta^{2}}}sin(\\omega_{d} \\, t))$$\n",
      "\n",
      "Ya que $$y(t) =1 -  e^{-\\zeta \\omega_{n}t}(cos(\\omega_{d} \\, t)+\\frac{\\zeta}{\\sqrt{1-\\zeta^{2}}}sin(\\omega_{d} \\, t)) $$\n",
      "\n"
     ]
    },
    {
     "cell_type": "code",
     "collapsed": false,
     "input": [
      "def y(t, zeta, omega_d):\n",
      "    \n",
      "    return  1 - np.exp(-zeta * omega_d * t) * (np.cos(omega_d * t) + (zeta / np.sqrt(1 - zeta**2)) * np.sin(omega_d * t))"
     ],
     "language": "python",
     "metadata": {},
     "outputs": [],
     "prompt_number": 3
    },
    {
     "cell_type": "code",
     "collapsed": false,
     "input": [
      "def error(t, zeta, omega_d):\n",
      "    \n",
      "    return  np.exp(-zeta * omega_d * t) * (np.cos(omega_d * t) + (zeta / np.sqrt(1 - zeta**2)) * np.sin(omega_d * t))"
     ],
     "language": "python",
     "metadata": {},
     "outputs": [],
     "prompt_number": 4
    },
    {
     "cell_type": "markdown",
     "metadata": {},
     "source": [
      "Sabemos que finalmente la discretizaci\u00f3n del controlador PID queda:\n",
      "\n",
      "$$u(t_{k})=u(t_{k-1})+[u_{0}(t_{k})-u_{0}(t_{k-1})]+K_{p}[e(t_{k})-e(t_{k-1})]+\\frac{K_{p}T_{s}}{T_{i}}e(t_{k})+\\frac{K_{p}T_{d}}{T_{s}}[e(t_{k})-2e(t_{k-1})+e(t_{k-2})] $$\n",
      "\n",
      "Luego el controlador total o incrmental se calcula:\n",
      "\n",
      "$$u(t_{k})=u(t_{k-1})+\\Delta u(t_{k})$$\n"
     ]
    },
    {
     "cell_type": "code",
     "collapsed": false,
     "input": [
      "T_s = .1\n",
      "N = 100  # numero de muestras\n",
      "u = np.zeros(N)"
     ],
     "language": "python",
     "metadata": {},
     "outputs": [],
     "prompt_number": 7
    },
    {
     "cell_type": "code",
     "collapsed": false,
     "input": [],
     "language": "python",
     "metadata": {},
     "outputs": [],
     "prompt_number": 5
    }
   ],
   "metadata": {}
  }
 ]
}