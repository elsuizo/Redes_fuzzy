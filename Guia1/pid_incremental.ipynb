{
 "metadata": {
  "name": "",
  "signature": "sha256:57a8c545fe8a47336c5da795c7dbac997e4a6eccadc27c973ff69c25af627c2f"
 },
 "nbformat": 3,
 "nbformat_minor": 0,
 "worksheets": [
  {
   "cells": [
    {
     "cell_type": "code",
     "collapsed": false,
     "input": [
      "import numpy as np\n",
      "import matplotlib.pyplot as plt"
     ],
     "language": "python",
     "metadata": {},
     "outputs": [],
     "prompt_number": 1
    },
    {
     "cell_type": "code",
     "collapsed": false,
     "input": [
      "%matplotlib inline "
     ],
     "language": "python",
     "metadata": {},
     "outputs": [],
     "prompt_number": 2
    },
    {
     "cell_type": "markdown",
     "metadata": {},
     "source": [
      "Primero calculamos \n",
      "\n",
      "$$e(t)=r(t)-y(t)$$ \n",
      "\n",
      "Donde: $y(t)$ es la salida del proceso y $r(t)$ es la se\u00f1al de referencia\n",
      "\n",
      "Nuestro sistema suponemos que es de segundo orden\n",
      "\n",
      "$$a\\ddot{y}+b\\dot{y}+cy=0$$\n",
      "\n",
      "Reducimos el orden de la siguiente manera:\n",
      "$$\n",
      " \\mathbf{f}(\\mathbf{y})=\n",
      " \\begin{bmatrix}\n",
      " \\dot{y}\\\\\n",
      " \\ddot{y}\n",
      " \\end{bmatrix}\n",
      " =\n",
      " \\begin{bmatrix}\n",
      " \\dot{y}\\\\\n",
      "  \\frac{-b}{a}\\dot{y}-\\frac{c}{a}y\n",
      " \\end{bmatrix}\n",
      "$$"
     ]
    },
    {
     "cell_type": "code",
     "collapsed": false,
     "input": [
      "from scipy import integrate"
     ],
     "language": "python",
     "metadata": {},
     "outputs": [],
     "prompt_number": 5
    },
    {
     "cell_type": "code",
     "collapsed": false,
     "input": [
      "# Definimos a todos los sistemas de segundo orden\n",
      "def f_vec(y, t, a, b, c):\n",
      "    \n",
      "    return np.array([y[1], - (b / a) * y[1] - (c / a) * y[0]])"
     ],
     "language": "python",
     "metadata": {},
     "outputs": [],
     "prompt_number": 6
    },
    {
     "cell_type": "code",
     "collapsed": false,
     "input": [
      "# Condicion inicial \n",
      "y_0_vec = np.array([1., 0.])"
     ],
     "language": "python",
     "metadata": {},
     "outputs": [],
     "prompt_number": 7
    },
    {
     "cell_type": "code",
     "collapsed": false,
     "input": [
      "# Vector de tiempos\n",
      "t = np.linspace(0,7)"
     ],
     "language": "python",
     "metadata": {},
     "outputs": [],
     "prompt_number": 9
    },
    {
     "cell_type": "code",
     "collapsed": false,
     "input": [
      "# Resolvemos el sistema de ecuaciones diferenciales lineales de primer orden\n",
      "sols = integrate.odeint(f_vec, y_0_vec, t, args=(1.,0.,1.))"
     ],
     "language": "python",
     "metadata": {},
     "outputs": [],
     "prompt_number": 10
    },
    {
     "cell_type": "code",
     "collapsed": false,
     "input": [
      "plt.plot(t, sols[:, 0], label='$y$')\n",
      "plt.plot(t, sols[:, 1], '--k', label='$\\dot{y}$')\n",
      "plt.legend()"
     ],
     "language": "python",
     "metadata": {},
     "outputs": [
      {
       "metadata": {},
       "output_type": "pyout",
       "prompt_number": 14,
       "text": [
        "<matplotlib.legend.Legend at 0x3549810>"
       ]
      },
      {
       "metadata": {},
       "output_type": "display_data",
       "png": "[encoded data removed]",
       "text": [
        "<matplotlib.figure.Figure at 0x389ed10>"
       ]
      }
     ],
     "prompt_number": 14
    },
    {
     "cell_type": "code",
     "collapsed": false,
     "input": [],
     "language": "python",
     "metadata": {},
     "outputs": []
    }
   ],
   "metadata": {}
  }
 ]
}