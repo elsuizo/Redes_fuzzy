{
 "metadata": {
  "name": "",
  "signature": "sha256:fcdee0a8ac03c19667e94f1424a775f5654a7c9c3fd451d05eae6c61601222a1"
 },
 "nbformat": 3,
 "nbformat_minor": 0,
 "worksheets": [
  {
   "cells": [
    {
     "cell_type": "markdown",
     "metadata": {},
     "source": [
      "Redes Neuronales y Control difuso\n",
      "=============================\n",
      "\n",
      "##Guia 1\n",
      "\n",
      "###Martin Nobl\u00eda\n",
      "\n",
      "###Marcos Panizzo\n",
      "\n",
      "###Dami\u00e1n Presti"
     ]
    },
    {
     "cell_type": "markdown",
     "metadata": {},
     "source": [
      "<a rel=\"license\" href=\"http://creativecommons.org/licenses/by-sa/4.0/\"><img alt=\"Licencia Creative Commons\" style=\"border-width:0\" src=\"http://i.creativecommons.org/l/by-sa/4.0/88x31.png\" /></a><br /><span xmlns:dct=\"http://purl.org/dc/terms/\" property=\"dct:title\">Guia1</span> por <a xmlns:cc=\"http://creativecommons.org/ns#\" href=\"http://nbviewer.ipython.org/urls/raw.githubusercontent.com/elsuizo/Redes_neuronales_Fuzzy/master/guia1.ipynb?create=1\" property=\"cc:attributionName\" rel=\"cc:attributionURL\">Martin Nobl\u00eda Marcos Panizzo Dami\u00e1n Presti</a> se distribuye bajo una <a rel=\"license\" href=\"http://creativecommons.org/licenses/by-sa/4.0/\">Licencia Creative Commons Atribuci\u00f3n-CompartirIgual 4.0 Internacional</a>."
     ]
    },
    {
     "cell_type": "markdown",
     "metadata": {},
     "source": [
      "###Ejercicio 1"
     ]
    },
    {
     "cell_type": "markdown",
     "metadata": {},
     "source": [
      "En este ejercicio trabajaremos con una neurona I&F con los siguientes par\u00e1metros:\n",
      "\n",
      "```python\n",
      " tau = 20.  # time constant(ms)\n",
      " R = 10.  # input Resistance(MOhms)\n",
      " C = tau / R  # capacidad\n",
      " v_thres = 40  # thresold voltage(mV)\n",
      " \n",
      "```\n",
      "\n",
      "a) Programar la Neurona cuando se aplica un pulso de corrient constante ( $I_{max}$ )\n",
      "\n",
      "b) Usar el m\u00e9todo de Euler forward y backward. Mostrar que el m\u00e9todo forward se vuelve inestable si $dt > 2 \\tau$\n",
      "\n",
      "c) Calcular la curva te\u00f3rica que predice la frecuencia en funci\u00f3n de la corriente aplicada.\n",
      "\n",
      "d) Verificar la predicci\u00f3n por medio de simulaciones. O sea, simular distintos valores de corrientes y medir la frecuencia de emisi\u00f3n de spikes. Solapar sus mediciones computacionales con la curva te\u00f3rica en c).\n",
      "\n"
     ]
    },
    {
     "cell_type": "markdown",
     "metadata": {},
     "source": [
      "###a)\n",
      "##Neuronas Integrate and Fire:\n",
      "\n",
      "En este modelo suponemos que debajo de un potencial umbral $v_{thres}$ de disparo la neurona se comporta como un circuito RC y cuando sobrepasa $v_{thres}$ dispara un spike.\n",
      "\n",
      "Como sabemos la ecuaci\u00f3n diferencial que modela un circuito RC es:\n",
      "\n",
      "$$C\\frac{dv}{dt}=\\frac{-v}{R}+I$$  \n",
      "\n",
      "o equivalentemente:\n",
      "\n",
      "$$\\frac{dv}{dt}=\\frac{-v}{RC}+\\frac{I}{C}$$\n",
      "\n",
      "Para resolver num\u00e9ricamente esta ecuaci\u00f3n diferencial lineal se nos proponen los m\u00e9todos de Euler(_Forward_ y _Backward_) que consisten en aproximar la derivada como $\\frac{V^{j}-V^{j-1}}{dt}$, donde $dt$ es el paso de discretizaci\u00f3n y en el caso _forward_ la iteraci\u00f3n de referencia es la $(j-1)$ por ello la ecuaci\u00f3n diferencial discretizada queda:\n",
      "\n",
      "$$\\frac{V^{j}-V^{j-1}}{dt} + \\frac{V^{j-1}}{\\tau}=f^{j-1}$$\n",
      "\n",
      "o equivalentemente:\n",
      "\n",
      "$$V^{j}=(1-\\frac{dt}{\\tau}) V^{j-1}+dt f^{j-1}$$\n",
      "\n",
      "Para el caso del m\u00e9todo _Backward_ la iteraci\u00f3n de referencia es la $(j)$ por ello la ecuaci\u00f3n diferencial discretizada queda:\n",
      "\n",
      "$$\\frac{V^{j}-V^{j-1}}{dt} + \\frac{V^{j}}{\\tau}=f^{j}$$\n",
      "\n",
      "o equivalentemente:\n",
      "\n",
      "$$V^{j}=\\frac{V^{j-1}+dt f^{j}}{1+\\frac{dt}{\\tau}}$$\n",
      "\n",
      "Modelamos a la neurona de acuerdo a la siguiente clase que tiene un metodo de simulaci\u00f3n pedido"
     ]
    },
    {
     "cell_type": "code",
     "collapsed": false,
     "input": [
      "\n",
      "import numpy as np\n",
      "\n",
      "class NeuronaIF:\n",
      "    \"\"\"\n",
      "    Clase NeuronaIF que modela una neurona Integrate and fire\n",
      "    \n",
      "    \"\"\"\n",
      "    variable_de_clase = 37\n",
      "    #Constructor de la clase\n",
      "    def __init__(self, tau, R, v_thres):\n",
      "        self.tau = tau \n",
      "        self.R = R\n",
      "        self.v_thres = v_thres\n",
      "        self.C = tau / R\n",
      "        \n",
      "    # Metodo de simulacion\n",
      "    def simulate(self, dt=1, method='forward', t_max=1000, I_max=.2, n_sims=1):\n",
      "        \"\"\"Metodo para simular la neurona\"\"\"\n",
      "        self.n_sims = n_sims\n",
      "        self.I_max = I_max\n",
      "        self.dt = dt\n",
      "        self.t_max = t_max\n",
      "        self.method = method\n",
      "        \n",
      "        t_v = np.arange(0,self.t_max - self.dt + 1, dt,dtype=float)\n",
      "        nt_v = len(t_v)\n",
      "        \n",
      "        dt_tau = self.dt / self.tau\n",
      "        one_dt_tau = 1 - dt_tau # forward Euler\n",
      "        m1_dt_tau = 1 / (1 + dt_tau) # backward Euler\n",
      "        Nt = len(t_v)\n",
      "        i_v_i = np.zeros_like(t_v) # nA\n",
      "\n",
      "        #i_v_i[(Nt*3/4.):(Nt*3/4.))\n",
      "        i_v_i[0:(Nt*3/4)] = I_max # nA\n",
      "        \n",
      "        for j in xrange(0,n_sims):\n",
      "            \n",
      "            \n",
      "            i_v_tot = i_v_i\n",
      "\n",
      "            v_v = np.zeros_like(t_v)\n",
      "            s_v = np.zeros_like(t_v)\n",
      "\n",
      "            for i in xrange(1,nt_v):\n",
      "                # forward Euler\n",
      "                if (self.method == 'forward'):\n",
      "                    \n",
      "                    v_v[i] =((1 - self.dt / self.tau) * v_v[i-1] )+ (self.dt * i_v_tot[i-1] / self.C)\n",
      "\n",
      "                # backward Euler\n",
      "                elif (self.method == 'backward'):\n",
      "                    \n",
      "                    v_v[i] = (m1_dt_tau * v_v[i-1] )+ (self.dt * (i_v_tot[i] / self.C))\n",
      "\n",
      "                if (v_v[i] >= self.v_thres):\n",
      "                        \n",
      "                    v_v[i] = 0.\n",
      "                    s_v[i] = 1.\n",
      "\n",
      "        vteo = self.I_max*self.R*(1 - np.exp(-t_v / self.tau))\n",
      "\n",
      "        return t_v, v_v, i_v_i, vteo\n",
      "    \n",
      "    def freq(self, t_ref):\n",
      "        \n",
      "        self.t_ref = t_ref\n",
      "        # Corriente minima \n",
      "        I_min = self.v_thres / self.R\n",
      "        \n",
      "        I = np.linspace(I_min,20)\n",
      "        \n",
      "        f = 1 / (self.t_ref - self.tau * np.log(1 - self.v_thres/ (I * self.R)))\n",
      "        \n",
      "        return I, f\n",
      "    \n",
      "    # Metodo para imprimir los objetos  \n",
      "    def __str__(self):  \n",
      "        \n",
      "        return '[NeuronaIF: tau:%s R:%s v_thres:%s]' % (self.tau, self.R, self.v_thres)\n",
      "    \n",
      "        "
     ],
     "language": "python",
     "metadata": {},
     "outputs": [],
     "prompt_number": 1
    },
    {
     "cell_type": "code",
     "collapsed": false,
     "input": [
      "#Objeto de la clase NeuronaIF\n",
      "neurona_1 = NeuronaIF(20., 10., 40.)"
     ],
     "language": "python",
     "metadata": {},
     "outputs": [],
     "prompt_number": 2
    },
    {
     "cell_type": "code",
     "collapsed": false,
     "input": [
      "#Simulamos la neurona con los parametros default\n",
      "t_v, v_v, i_v_i, vteo = neurona_1.simulate()"
     ],
     "language": "python",
     "metadata": {},
     "outputs": [],
     "prompt_number": 3
    },
    {
     "cell_type": "code",
     "collapsed": false,
     "input": [
      "print neurona_1"
     ],
     "language": "python",
     "metadata": {},
     "outputs": [
      {
       "output_type": "stream",
       "stream": "stdout",
       "text": [
        "[NeuronaIF: tau:20.0 R:10.0 v_thres:40.0]\n"
       ]
      }
     ],
     "prompt_number": 4
    },
    {
     "cell_type": "code",
     "collapsed": false,
     "input": [
      "%matplotlib inline"
     ],
     "language": "python",
     "metadata": {},
     "outputs": [],
     "prompt_number": 5
    },
    {
     "cell_type": "code",
     "collapsed": false,
     "input": [
      "import matplotlib.pyplot as plt\n",
      "plt.rcParams['figure.figsize'] = 8,6"
     ],
     "language": "python",
     "metadata": {},
     "outputs": [],
     "prompt_number": 6
    },
    {
     "cell_type": "code",
     "collapsed": false,
     "input": [
      "fig, axes = plt.subplots()\n",
      "axes.plot(t_v, v_v,'b')\n",
      "axes.plot(t_v, i_v_i, 'r')\n",
      "axes.plot(t_v, vteo, 'k')\n",
      "\n",
      "axes.set_xlabel('$t$', fontsize=20)\n",
      "axes.set_title('Simulacion de una Neurona IF', fontsize=20)"
     ],
     "language": "python",
     "metadata": {},
     "outputs": [
      {
       "metadata": {},
       "output_type": "pyout",
       "prompt_number": 7,
       "text": [
        "<matplotlib.text.Text at 0x2ba7850>"
       ]
      },
      {
       "metadata": {},
       "output_type": "display_data",
       "png": "[encoded data removed]",
       "text": [
        "<matplotlib.figure.Figure at 0x2b8ce50>"
       ]
      }
     ],
     "prompt_number": 7
    },
    {
     "cell_type": "markdown",
     "metadata": {},
     "source": [
      "###b)"
     ]
    },
    {
     "cell_type": "markdown",
     "metadata": {},
     "source": [
      "De acuerdo a la ecuaci\u00f3n de discretizaci\u00f3n del m\u00e9todo _forward_ si llamamos $a = 1-\\frac{dt}{\\tau}$ y evaluamos vemos que se puede generalizar la formula a la siguiente expresi\u00f3n:\n",
      "\n",
      "$$V^{j}=a^{j-1} V^{1}+dt\\sum_{i=1}^{j-1}a^{j-i-1}f^{i}$$\n",
      "\n",
      "Al ser una serie geom\u00e9trica $|a|< 1$ y adem\u00e1s para asegurar convergencia $dt < 2\\tau$\n",
      "\n",
      "Vamos a simular nuestra neurona con un $dt = 41$ que no cumplir\u00eda la condici\u00f3n de convergencia"
     ]
    },
    {
     "cell_type": "code",
     "collapsed": false,
     "input": [
      "# Simulacion de una neurona con un dt=41\n",
      "t_v, v_v, i_v_i, vteo = neurona_1.simulate(41)"
     ],
     "language": "python",
     "metadata": {},
     "outputs": [],
     "prompt_number": 8
    },
    {
     "cell_type": "code",
     "collapsed": false,
     "input": [
      "fig, axes = plt.subplots()\n",
      "axes.plot(t_v, v_v,'b')\n",
      "axes.plot(t_v, i_v_i, 'r')\n",
      "axes.plot(t_v, vteo, 'k')\n",
      "\n",
      "axes.set_xlabel('$t$', fontsize=20)\n",
      "axes.set_title('Simulacion de una Neurona IF', fontsize=20)"
     ],
     "language": "python",
     "metadata": {},
     "outputs": [
      {
       "metadata": {},
       "output_type": "pyout",
       "prompt_number": 9,
       "text": [
        "<matplotlib.text.Text at 0x2f035d0>"
       ]
      },
      {
       "metadata": {},
       "output_type": "display_data",
       "png": "[encoded data removed]",
       "text": [
        "<matplotlib.figure.Figure at 0x2b96790>"
       ]
      }
     ],
     "prompt_number": 9
    },
    {
     "cell_type": "markdown",
     "metadata": {},
     "source": [
      "###c)"
     ]
    },
    {
     "cell_type": "markdown",
     "metadata": {},
     "source": [
      "Como sabemos la soluci\u00f3n a a la ecuaci\u00f3n diferencial es:\n",
      "\n",
      "$$v(t)=IR(1-exp(\\frac{-t}{\\tau}))$$\n",
      "\n",
      "cuando $v(t)=v_{thres}$ tenemos:\n",
      "\n",
      "$$v_{thres}=IR(1-exp(\\frac{-t_{thres}}{\\tau}))$$\n",
      "\n",
      "Por ello si despejamos $t_{thres}$ nos queda:\n",
      "\n",
      "$$t_{thres}=-\\tau \\, log(\\frac{1-v_{thres}}{IR})$$ \n",
      "\n",
      "Luego como la frecuencia es la inversa del tiempo y adem\u00e1s teniendo en cuenta que existe un tiempo muerto($t_{ref}$) donde la neurona no puede ser exitada\n",
      "\n",
      "$$f=\\frac{1}{t_{ref}+t_{thres}}=\\frac{1}{t_{ref}-\\tau \\, log(1-\\frac{v_{thres}}{IR})}$$"
     ]
    },
    {
     "cell_type": "code",
     "collapsed": false,
     "input": [
      "t_v, v_v, i_v_i, vteo = neurona_1.simulate(1)"
     ],
     "language": "python",
     "metadata": {},
     "outputs": [],
     "prompt_number": 10
    },
    {
     "cell_type": "code",
     "collapsed": false,
     "input": [
      "I,f = neurona_1.freq(.01)  # el parametro que utilizamos es t_ref = 0.1 ms"
     ],
     "language": "python",
     "metadata": {},
     "outputs": [],
     "prompt_number": 27
    },
    {
     "cell_type": "code",
     "collapsed": false,
     "input": [
      "f"
     ],
     "language": "python",
     "metadata": {},
     "outputs": [
      {
       "metadata": {},
       "output_type": "pyout",
       "prompt_number": 28,
       "text": [
        "array([ 0.        ,  0.01934612,  0.02545683,  0.03074147,  0.03565575,\n",
        "        0.04035922,  0.04492744,  0.04940219,  0.05380896,  0.0581644 ,\n",
        "        0.06247993,  0.06676371,  0.07102172,  0.0752585 ,  0.07947753,\n",
        "        0.08368154,  0.08787273,  0.09205285,  0.09622334,  0.1003854 ,\n",
        "        0.10454001,  0.10868801,  0.11283011,  0.11696691,  0.12109893,\n",
        "        0.12522662,  0.12935037,  0.13347051,  0.13758735,  0.14170115,\n",
        "        0.14581214,  0.14992053,  0.1540265 ,  0.15813021,  0.16223182,\n",
        "        0.16633146,  0.17042924,  0.17452528,  0.17861966,  0.1827125 ,\n",
        "        0.18680385,  0.1908938 ,  0.19498242,  0.19906977,  0.2031559 ,\n",
        "        0.20724087,  0.21132473,  0.21540752,  0.21948928,  0.22357005])"
       ]
      }
     ],
     "prompt_number": 28
    },
    {
     "cell_type": "code",
     "collapsed": false,
     "input": [
      "I"
     ],
     "language": "python",
     "metadata": {},
     "outputs": [
      {
       "metadata": {},
       "output_type": "pyout",
       "prompt_number": 29,
       "text": [
        "array([  4.        ,   4.32653061,   4.65306122,   4.97959184,\n",
        "         5.30612245,   5.63265306,   5.95918367,   6.28571429,\n",
        "         6.6122449 ,   6.93877551,   7.26530612,   7.59183673,\n",
        "         7.91836735,   8.24489796,   8.57142857,   8.89795918,\n",
        "         9.2244898 ,   9.55102041,   9.87755102,  10.20408163,\n",
        "        10.53061224,  10.85714286,  11.18367347,  11.51020408,\n",
        "        11.83673469,  12.16326531,  12.48979592,  12.81632653,\n",
        "        13.14285714,  13.46938776,  13.79591837,  14.12244898,\n",
        "        14.44897959,  14.7755102 ,  15.10204082,  15.42857143,\n",
        "        15.75510204,  16.08163265,  16.40816327,  16.73469388,\n",
        "        17.06122449,  17.3877551 ,  17.71428571,  18.04081633,\n",
        "        18.36734694,  18.69387755,  19.02040816,  19.34693878,\n",
        "        19.67346939,  20.        ])"
       ]
      }
     ],
     "prompt_number": 29
    },
    {
     "cell_type": "code",
     "collapsed": false,
     "input": [
      "# Plots de las frecuencias de spiking\n",
      "plt.plot(I,f,'o')\n",
      "plt.xlabel('I[nA]', fontsize=20)\n",
      "plt.ylabel('frequency', fontsize=20)\n",
      "\n"
     ],
     "language": "python",
     "metadata": {},
     "outputs": [
      {
       "metadata": {},
       "output_type": "pyout",
       "prompt_number": 30,
       "text": [
        "<matplotlib.text.Text at 0x3137a90>"
       ]
      },
      {
       "metadata": {},
       "output_type": "display_data",
       "png": "[encoded data removed]",
       "text": [
        "<matplotlib.figure.Figure at 0x2d17250>"
       ]
      }
     ],
     "prompt_number": 30
    },
    {
     "cell_type": "code",
     "collapsed": false,
     "input": [
      "np.log(0.3)"
     ],
     "language": "python",
     "metadata": {},
     "outputs": [
      {
       "metadata": {},
       "output_type": "pyout",
       "prompt_number": 15,
       "text": [
        "-1.2039728043259361"
       ]
      }
     ],
     "prompt_number": 15
    },
    {
     "cell_type": "code",
     "collapsed": false,
     "input": [
      "print neurona_1"
     ],
     "language": "python",
     "metadata": {},
     "outputs": [
      {
       "output_type": "stream",
       "stream": "stdout",
       "text": [
        "[NeuronaIF: tau:20.0 R:10.0 v_thres:40.0]\n"
       ]
      }
     ],
     "prompt_number": 16
    },
    {
     "cell_type": "code",
     "collapsed": false,
     "input": [
      "40./10."
     ],
     "language": "python",
     "metadata": {},
     "outputs": [
      {
       "metadata": {},
       "output_type": "pyout",
       "prompt_number": 17,
       "text": [
        "4.0"
       ]
      }
     ],
     "prompt_number": 17
    },
    {
     "cell_type": "code",
     "collapsed": false,
     "input": [],
     "language": "python",
     "metadata": {},
     "outputs": [],
     "prompt_number": 17
    }
   ],
   "metadata": {}
  }
 ]
}