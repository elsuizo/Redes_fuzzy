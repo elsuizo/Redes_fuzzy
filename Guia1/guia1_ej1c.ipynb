{
 "metadata": {
  "name": ""
 },
 "nbformat": 3,
 "nbformat_minor": 0,
 "worksheets": [
  {
   "cells": [
    {
     "cell_type": "code",
     "collapsed": false,
     "input": [
      "import numpy as np\n",
      "import matplotlib.pyplot as plt"
     ],
     "language": "python",
     "metadata": {},
     "outputs": [],
     "prompt_number": 1
    },
    {
     "cell_type": "code",
     "collapsed": false,
     "input": [
      "#leaky integrate and fire with random inputs \n",
      "\n",
      "#Corriente\n",
      "Imax = 1.2 #nA\n",
      "#time constant\n",
      "tau = 20. #ms\n",
      "#input resistance\n",
      "R = 10. #MOhms\n",
      "#capacidad\n",
      "C = tau/R\n",
      "v_thres = 10 #mV\n",
      "#integration time step\n",
      "dt = 0.1 #ms\n",
      "#simulation time\n",
      "t_max = 2000.\n",
      "t_v = np.arange(0,t_max - dt ,dt)        \n",
      "nt_v = len(t_v)\n",
      "\n",
      "#compute constants to save time\n",
      "dttau = dt / tau\n",
      "one_dttau = 1 - dttau #forward Euler\n",
      "m1_dttau = 1 / (1 + dttau) #backward Euler\n",
      "\n",
      "\n",
      "#number of simulations\n",
      "#n_sims = 500\n",
      "n_sims = 1 #debugging\n",
      "\n",
      "#input current\n",
      "#constant current for debugging purposes\n",
      "Nt = len(t_v)\n",
      "i_v_i = np.zeros_like(t_v) #nA\n",
      "i_v_i[(Nt*1/4):(Nt*3/4)] = Imax #nA\n",
      "#i_v_i(1:(Nt*3/4)) = Imax; %nA\n",
      "\n",
      "for j in xrange(0,n_sims):\n",
      "    \n",
      "\n",
      "   \n",
      "    i_v_tot=i_v_i  #corriente total de entrada\n",
      "      \n",
      "    v_v = np.zeros_like(t_v)  #vector de voltaje\n",
      "    s_v = np.zeros_like(t_v)  #vector que indica si hubo spike\n",
      "\n",
      "\n",
      "    #simulate LIF response to input\n",
      "    for i in xrange(1,nt_v):\n",
      "        \n",
      "        #forward Euler\n",
      "        #v_v(i) = (1-dt/tau)*v_v[i-1] + dt*i_v_tot[i-1]/C\n",
      "\n",
      "        #backward Euler\n",
      "        v_v[i] = m1_dttau*(v_v[i-1] +dt*i_v_tot[i]/C)\n",
      "\n",
      "        if (v_v[i] >= v_thres):  #Si sobrepasa umbral resetea y guarda spike en s_v\n",
      "            v_v[i] = 0.\n",
      "            s_v[i] = 1.\n",
      "    \n",
      "    \n",
      "\n",
      "v_v_f = v_v + s_v * 60 #mv\n"
     ],
     "language": "python",
     "metadata": {},
     "outputs": [],
     "prompt_number": 23
    },
    {
     "cell_type": "code",
     "collapsed": false,
     "input": [
      "plt.plot(t_v,v_v_f)\n",
      "plt.plot(t_v,i_v_i,'r')\n",
      "plt.show()\n"
     ],
     "language": "python",
     "metadata": {},
     "outputs": [],
     "prompt_number": 24
    },
    {
     "cell_type": "code",
     "collapsed": false,
     "input": [
      "a = np.arange(0,10)\n",
      "a"
     ],
     "language": "python",
     "metadata": {},
     "outputs": [
      {
       "metadata": {},
       "output_type": "pyout",
       "prompt_number": 27,
       "text": [
        "array([0, 1, 2, 3, 4, 5, 6, 7, 8, 9])"
       ]
      }
     ],
     "prompt_number": 27
    },
    {
     "cell_type": "code",
     "collapsed": false,
     "input": [
      "b = np.array([2,2,2,2,2,2,2,2,2,2])\n",
      "b.shape"
     ],
     "language": "python",
     "metadata": {},
     "outputs": [
      {
       "metadata": {},
       "output_type": "pyout",
       "prompt_number": 55,
       "text": [
        "(10,)"
       ]
      }
     ],
     "prompt_number": 55
    },
    {
     "cell_type": "code",
     "collapsed": false,
     "input": [
      "a * b"
     ],
     "language": "python",
     "metadata": {},
     "outputs": [
      {
       "metadata": {},
       "output_type": "pyout",
       "prompt_number": 56,
       "text": [
        "array([ 0,  2,  4,  6,  8, 10, 12, 14, 16, 18])"
       ]
      }
     ],
     "prompt_number": 56
    },
    {
     "cell_type": "code",
     "collapsed": false,
     "input": [
      "np.dot(a,b)"
     ],
     "language": "python",
     "metadata": {},
     "outputs": [
      {
       "metadata": {},
       "output_type": "pyout",
       "prompt_number": 57,
       "text": [
        "90"
       ]
      }
     ],
     "prompt_number": 57
    },
    {
     "cell_type": "code",
     "collapsed": false,
     "input": [
      "A = np.array([[1,2],[3,4]])\n",
      "A"
     ],
     "language": "python",
     "metadata": {},
     "outputs": [
      {
       "metadata": {},
       "output_type": "pyout",
       "prompt_number": 58,
       "text": [
        "array([[1, 2],\n",
        "       [3, 4]])"
       ]
      }
     ],
     "prompt_number": 58
    },
    {
     "cell_type": "code",
     "collapsed": false,
     "input": [
      "A.shape"
     ],
     "language": "python",
     "metadata": {},
     "outputs": [
      {
       "metadata": {},
       "output_type": "pyout",
       "prompt_number": 59,
       "text": [
        "(2, 2)"
       ]
      }
     ],
     "prompt_number": 59
    },
    {
     "cell_type": "code",
     "collapsed": false,
     "input": [
      "B = np.array([[1,2],[3,4]])"
     ],
     "language": "python",
     "metadata": {},
     "outputs": [],
     "prompt_number": 60
    },
    {
     "cell_type": "code",
     "collapsed": false,
     "input": [
      "B * A"
     ],
     "language": "python",
     "metadata": {},
     "outputs": [
      {
       "metadata": {},
       "output_type": "pyout",
       "prompt_number": 61,
       "text": [
        "array([[ 1,  4],\n",
        "       [ 9, 16]])"
       ]
      }
     ],
     "prompt_number": 61
    },
    {
     "cell_type": "code",
     "collapsed": false,
     "input": [
      "np.dot(A,B)"
     ],
     "language": "python",
     "metadata": {},
     "outputs": [
      {
       "metadata": {},
       "output_type": "pyout",
       "prompt_number": 62,
       "text": [
        "array([[ 7, 10],\n",
        "       [15, 22]])"
       ]
      }
     ],
     "prompt_number": 62
    },
    {
     "cell_type": "code",
     "collapsed": false,
     "input": [],
     "language": "python",
     "metadata": {},
     "outputs": []
    }
   ],
   "metadata": {}
  }
 ]
}