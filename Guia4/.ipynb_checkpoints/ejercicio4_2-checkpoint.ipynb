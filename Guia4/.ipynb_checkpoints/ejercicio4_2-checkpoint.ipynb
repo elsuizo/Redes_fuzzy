{
 "metadata": {
  "name": "",
  "signature": "sha256:80b4765f641e107d3cbad6a6188d6fbabdfcbe8b20f533181cd684efcf1edab7"
 },
 "nbformat": 3,
 "nbformat_minor": 0,
 "worksheets": []
}