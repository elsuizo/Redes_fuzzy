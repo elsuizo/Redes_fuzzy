{
 "metadata": {
  "name": "",
  "signature": "sha256:790713360c04eef34172c8b70f2cacdb8b0c052cce5c65143049547fba9dfa16"
 },
 "nbformat": 3,
 "nbformat_minor": 0,
 "worksheets": [
  {
   "cells": [
    {
     "cell_type": "markdown",
     "metadata": {},
     "source": [
      "Redes Neuronales y Control difuso\n",
      "=============================\n",
      "\n",
      "##Guia 4\n",
      "\n",
      "###Martin Nobl\u00eda\n",
      "\n"
     ]
    },
    {
     "cell_type": "markdown",
     "metadata": {},
     "source": [
      "<a rel=\"license\" href=\"http://creativecommons.org/licenses/by-sa/4.0/\"><img alt=\"Licencia Creative Commons\" style=\"border-width:0\" src=\"http://i.creativecommons.org/l/by-sa/4.0/88x31.png\" /></a><br /><span xmlns:dct=\"http://purl.org/dc/terms/\" property=\"dct:title\">Guia3 p3</span> por <a xmlns:cc=\"http://creativecommons.org/ns#\" href=\"http://nbviewer.ipython.org/urls/raw.githubusercontent.com/elsuizo/Redes_neuronales_Fuzzy/master/guia1.ipynb?create=1\" property=\"cc:attributionName\" rel=\"cc:attributionURL\">Martin Nobl\u00eda</a> se distribuye bajo una <a rel=\"license\" href=\"http://creativecommons.org/licenses/by-sa/4.0/\">Licencia Creative Commons Atribuci\u00f3n-CompartirIgual 4.0 Internacional</a>."
     ]
    },
    {
     "cell_type": "markdown",
     "metadata": {},
     "source": [
      "##Ejercicio 4 \n",
      "\n",
      "La idea de este ejercicio es estudiar el fen\u00f3meno de overfitting. Supongamos que tenemos una serie\n",
      "de datos que vamos ajustar con una red (una capa hidden). Los datos se encuentran en el archivo\n",
      "*datos_guia4_ej4.mat*. Nuestro objetivo es determinar el n\u00famero optimo de neuronas en la capa\n",
      "hidden.\n",
      "\n",
      "* a) Determine una estrategia para dividir los datos en dos conjuntos: {ptrain,ttrain} y {ptest,ttest}\n",
      "\n",
      "\n",
      "* b) Ajuste Nest redes neuronales con Nneuro neuronas en la capa hidden\n",
      "\n",
      "* c) Grafique el error absoluto promedio para los ajustes de entrenamiento {ptrain,ttrain} y para los ajustes con los datos de testeo {ptest,ttest}.\n",
      "\n",
      "* d) Explique el comportamiento de ambos errores.\n",
      "\n"
     ]
    },
    {
     "cell_type": "code",
     "collapsed": false,
     "input": [
      "# Imports\n",
      "import neurolab as nl\n",
      "import numpy as np\n",
      "import scipy.io as sio\n",
      "import matplotlib.pyplot as plt\n",
      "%matplotlib inline\n",
      "plt.rcParams['figure.figsize'] = 8,6 #par\u00e1metros de tama\u00f1o"
     ],
     "language": "python",
     "metadata": {},
     "outputs": [],
     "prompt_number": 2
    },
    {
     "cell_type": "code",
     "collapsed": false,
     "input": [],
     "language": "python",
     "metadata": {},
     "outputs": []
    }
   ],
   "metadata": {}
  }
 ]
}